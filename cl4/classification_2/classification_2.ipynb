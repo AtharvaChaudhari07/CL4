{
 "cells": [
  {
   "cell_type": "code",
   "execution_count": 1,
   "id": "041568f8-b2ba-4b46-8b34-2ca0d796c7da",
   "metadata": {},
   "outputs": [],
   "source": [
    "import numpy as np\n",
    "import pandas as pd"
   ]
  },
  {
   "cell_type": "code",
   "execution_count": 2,
   "id": "1bd84f47-8685-468e-9f8e-cfa4bcc7851f",
   "metadata": {},
   "outputs": [],
   "source": [
    "from sklearn.datasets import load_breast_cancer\n",
    "data = load_breast_cancer()\n"
   ]
  },
  {
   "cell_type": "code",
   "execution_count": 7,
   "id": "600ed947-ec0d-4802-aab1-7675fbd749b9",
   "metadata": {},
   "outputs": [
    {
     "data": {
      "text/plain": [
       "['DESCR',\n",
       " 'data',\n",
       " 'data_module',\n",
       " 'feature_names',\n",
       " 'filename',\n",
       " 'frame',\n",
       " 'target',\n",
       " 'target_names']"
      ]
     },
     "execution_count": 7,
     "metadata": {},
     "output_type": "execute_result"
    }
   ],
   "source": [
    "dir(data)"
   ]
  },
  {
   "cell_type": "code",
   "execution_count": 8,
   "id": "9466ffeb-ebcb-4aee-8438-5081b029dea2",
   "metadata": {},
   "outputs": [],
   "source": [
    "X=data.data\n",
    "y=data.target"
   ]
  },
  {
   "cell_type": "code",
   "execution_count": 14,
   "id": "f2f9ac0a-a444-476b-b52f-ce40081e6277",
   "metadata": {},
   "outputs": [],
   "source": [
    "from sklearn.preprocessing import StandardScaler\n",
    "sc = StandardScaler()\n",
    "X_scaled = sc.fit_transform(X)"
   ]
  },
  {
   "cell_type": "code",
   "execution_count": 15,
   "id": "c0d768c5-ac01-491a-93b5-827451f7b8e0",
   "metadata": {},
   "outputs": [],
   "source": [
    "from sklearn.model_selection import train_test_split\n",
    "X_train,X_test,y_train,y_test = train_test_split(X_scaled,y,test_size=0.2,random_state=42)"
   ]
  },
  {
   "cell_type": "code",
   "execution_count": 16,
   "id": "f234a892-4b5d-4a20-9ba4-2a6d3ad9893f",
   "metadata": {},
   "outputs": [],
   "source": [
    "from sklearn.linear_model import LogisticRegression\n",
    "LR = LogisticRegression()\n",
    "LR.fit(X_train,y_train)\n",
    "y_pred = LR.predict(X_test)"
   ]
  },
  {
   "cell_type": "code",
   "execution_count": 19,
   "id": "a7253b30-8651-489a-8fe7-ed3e04292608",
   "metadata": {},
   "outputs": [
    {
     "data": {
      "text/plain": [
       "{'0': {'precision': 0.9761904761904762,\n",
       "  'recall': 0.9534883720930233,\n",
       "  'f1-score': 0.9647058823529412,\n",
       "  'support': 43.0},\n",
       " '1': {'precision': 0.9722222222222222,\n",
       "  'recall': 0.9859154929577465,\n",
       "  'f1-score': 0.9790209790209791,\n",
       "  'support': 71.0},\n",
       " 'accuracy': 0.9736842105263158,\n",
       " 'macro avg': {'precision': 0.9742063492063492,\n",
       "  'recall': 0.9697019325253848,\n",
       "  'f1-score': 0.9718634306869601,\n",
       "  'support': 114.0},\n",
       " 'weighted avg': {'precision': 0.9737190197716513,\n",
       "  'recall': 0.9736842105263158,\n",
       "  'f1-score': 0.973621425014614,\n",
       "  'support': 114.0}}"
      ]
     },
     "execution_count": 19,
     "metadata": {},
     "output_type": "execute_result"
    }
   ],
   "source": [
    "from sklearn.metrics import classification_report, accuracy_score, confusion_matrix\n",
    "lr_report = classification_report(y_test,y_pred,output_dict=True)\n",
    "lr_report"
   ]
  },
  {
   "cell_type": "code",
   "execution_count": 26,
   "id": "21401898-2754-420e-8fb7-576adbcc59ad",
   "metadata": {},
   "outputs": [
    {
     "data": {
      "text/plain": [
       "0.9736842105263158"
      ]
     },
     "execution_count": 26,
     "metadata": {},
     "output_type": "execute_result"
    }
   ],
   "source": [
    "lr_acc = accuracy_score(y_test,y_pred)\n",
    "cm = confusion_matrix(y_test,y_pred)\n",
    "lr_acc"
   ]
  },
  {
   "cell_type": "code",
   "execution_count": 27,
   "id": "0cb22501-a228-41c6-b109-585ed1919c61",
   "metadata": {},
   "outputs": [
    {
     "data": {
      "text/html": [
       "<div>\n",
       "<style scoped>\n",
       "    .dataframe tbody tr th:only-of-type {\n",
       "        vertical-align: middle;\n",
       "    }\n",
       "\n",
       "    .dataframe tbody tr th {\n",
       "        vertical-align: top;\n",
       "    }\n",
       "\n",
       "    .dataframe thead th {\n",
       "        text-align: right;\n",
       "    }\n",
       "</style>\n",
       "<table border=\"1\" class=\"dataframe\">\n",
       "  <thead>\n",
       "    <tr style=\"text-align: right;\">\n",
       "      <th></th>\n",
       "      <th>precision</th>\n",
       "      <th>recall</th>\n",
       "      <th>f1-score</th>\n",
       "      <th>support</th>\n",
       "    </tr>\n",
       "  </thead>\n",
       "  <tbody>\n",
       "    <tr>\n",
       "      <th>0</th>\n",
       "      <td>0.976190</td>\n",
       "      <td>0.953488</td>\n",
       "      <td>0.964706</td>\n",
       "      <td>43.000000</td>\n",
       "    </tr>\n",
       "    <tr>\n",
       "      <th>1</th>\n",
       "      <td>0.972222</td>\n",
       "      <td>0.985915</td>\n",
       "      <td>0.979021</td>\n",
       "      <td>71.000000</td>\n",
       "    </tr>\n",
       "    <tr>\n",
       "      <th>accuracy</th>\n",
       "      <td>0.973684</td>\n",
       "      <td>0.973684</td>\n",
       "      <td>0.973684</td>\n",
       "      <td>0.973684</td>\n",
       "    </tr>\n",
       "    <tr>\n",
       "      <th>macro avg</th>\n",
       "      <td>0.974206</td>\n",
       "      <td>0.969702</td>\n",
       "      <td>0.971863</td>\n",
       "      <td>114.000000</td>\n",
       "    </tr>\n",
       "    <tr>\n",
       "      <th>weighted avg</th>\n",
       "      <td>0.973719</td>\n",
       "      <td>0.973684</td>\n",
       "      <td>0.973621</td>\n",
       "      <td>114.000000</td>\n",
       "    </tr>\n",
       "  </tbody>\n",
       "</table>\n",
       "</div>"
      ],
      "text/plain": [
       "              precision    recall  f1-score     support\n",
       "0              0.976190  0.953488  0.964706   43.000000\n",
       "1              0.972222  0.985915  0.979021   71.000000\n",
       "accuracy       0.973684  0.973684  0.973684    0.973684\n",
       "macro avg      0.974206  0.969702  0.971863  114.000000\n",
       "weighted avg   0.973719  0.973684  0.973621  114.000000"
      ]
     },
     "execution_count": 27,
     "metadata": {},
     "output_type": "execute_result"
    }
   ],
   "source": [
    "lr_report_df = pd.DataFrame(lr_report).transpose()\n",
    "lr_report_df"
   ]
  },
  {
   "cell_type": "code",
   "execution_count": 28,
   "id": "1e3e22f6-bf4c-46e7-8535-61b05bbcb704",
   "metadata": {},
   "outputs": [
    {
     "data": {
      "text/plain": [
       "Text(50.722222222222214, 0.5, 'actual')"
      ]
     },
     "execution_count": 28,
     "metadata": {},
     "output_type": "execute_result"
    },
    {
     "data": {
      "image/png": "[encoded data removed]",
      "text/plain": [
       "<Figure size 640x480 with 2 Axes>"
      ]
     },
     "metadata": {},
     "output_type": "display_data"
    }
   ],
   "source": [
    "import matplotlib.pyplot as plt\n",
    "import seaborn as sns\n",
    "sns.heatmap(cm,annot=True)\n",
    "plt.xlabel(\"predicted\")\n",
    "plt.ylabel(\"actual\")"
   ]
  },
  {
   "cell_type": "code",
   "execution_count": 31,
   "id": "704fce6d-a4c3-45e2-95a7-6872fb0e2a7e",
   "metadata": {},
   "outputs": [],
   "source": [
    "from sklearn.ensemble import RandomForestClassifier\n",
    "rf = RandomForestClassifier()\n",
    "rf.fit(X_train,y_train)\n",
    "rf_pred = rf.predict(X_test)"
   ]
  },
  {
   "cell_type": "code",
   "execution_count": 32,
   "id": "5c0f140f-2864-4904-89f9-cfac97d525ad",
   "metadata": {},
   "outputs": [
    {
     "data": {
      "text/plain": [
       "{'0': {'precision': 0.975609756097561,\n",
       "  'recall': 0.9302325581395349,\n",
       "  'f1-score': 0.9523809523809523,\n",
       "  'support': 43.0},\n",
       " '1': {'precision': 0.958904109589041,\n",
       "  'recall': 0.9859154929577465,\n",
       "  'f1-score': 0.9722222222222222,\n",
       "  'support': 71.0},\n",
       " 'accuracy': 0.9649122807017544,\n",
       " 'macro avg': {'precision': 0.9672569328433009,\n",
       "  'recall': 0.9580740255486406,\n",
       "  'f1-score': 0.9623015873015872,\n",
       "  'support': 114.0},\n",
       " 'weighted avg': {'precision': 0.9652053622194477,\n",
       "  'recall': 0.9649122807017544,\n",
       "  'f1-score': 0.9647382344750765,\n",
       "  'support': 114.0}}"
      ]
     },
     "execution_count": 32,
     "metadata": {},
     "output_type": "execute_result"
    }
   ],
   "source": [
    "rf_report = classification_report(y_test,rf_pred,output_dict=True)\n",
    "rf_report"
   ]
  },
  {
   "cell_type": "code",
   "execution_count": 33,
   "id": "e03eb1eb-0df7-4ab9-9870-c16e97ac049e",
   "metadata": {},
   "outputs": [
    {
     "data": {
      "text/html": [
       "<div>\n",
       "<style scoped>\n",
       "    .dataframe tbody tr th:only-of-type {\n",
       "        vertical-align: middle;\n",
       "    }\n",
       "\n",
       "    .dataframe tbody tr th {\n",
       "        vertical-align: top;\n",
       "    }\n",
       "\n",
       "    .dataframe thead th {\n",
       "        text-align: right;\n",
       "    }\n",
       "</style>\n",
       "<table border=\"1\" class=\"dataframe\">\n",
       "  <thead>\n",
       "    <tr style=\"text-align: right;\">\n",
       "      <th></th>\n",
       "      <th>precision</th>\n",
       "      <th>recall</th>\n",
       "      <th>f1-score</th>\n",
       "      <th>support</th>\n",
       "    </tr>\n",
       "  </thead>\n",
       "  <tbody>\n",
       "    <tr>\n",
       "      <th>0</th>\n",
       "      <td>0.975610</td>\n",
       "      <td>0.930233</td>\n",
       "      <td>0.952381</td>\n",
       "      <td>43.000000</td>\n",
       "    </tr>\n",
       "    <tr>\n",
       "      <th>1</th>\n",
       "      <td>0.958904</td>\n",
       "      <td>0.985915</td>\n",
       "      <td>0.972222</td>\n",
       "      <td>71.000000</td>\n",
       "    </tr>\n",
       "    <tr>\n",
       "      <th>accuracy</th>\n",
       "      <td>0.964912</td>\n",
       "      <td>0.964912</td>\n",
       "      <td>0.964912</td>\n",
       "      <td>0.964912</td>\n",
       "    </tr>\n",
       "    <tr>\n",
       "      <th>macro avg</th>\n",
       "      <td>0.967257</td>\n",
       "      <td>0.958074</td>\n",
       "      <td>0.962302</td>\n",
       "      <td>114.000000</td>\n",
       "    </tr>\n",
       "    <tr>\n",
       "      <th>weighted avg</th>\n",
       "      <td>0.965205</td>\n",
       "      <td>0.964912</td>\n",
       "      <td>0.964738</td>\n",
       "      <td>114.000000</td>\n",
       "    </tr>\n",
       "  </tbody>\n",
       "</table>\n",
       "</div>"
      ],
      "text/plain": [
       "              precision    recall  f1-score     support\n",
       "0              0.975610  0.930233  0.952381   43.000000\n",
       "1              0.958904  0.985915  0.972222   71.000000\n",
       "accuracy       0.964912  0.964912  0.964912    0.964912\n",
       "macro avg      0.967257  0.958074  0.962302  114.000000\n",
       "weighted avg   0.965205  0.964912  0.964738  114.000000"
      ]
     },
     "execution_count": 33,
     "metadata": {},
     "output_type": "execute_result"
    }
   ],
   "source": [
    "rf_report_df = pd.DataFrame(rf_report).transpose()\n",
    "rf_report_df"
   ]
  },
  {
   "cell_type": "code",
   "execution_count": null,
   "id": "9cbbbbfb-543f-43a5-8e90-084b0534e1f6",
   "metadata": {},
   "outputs": [],
   "source": []
  }
 ],
 "metadata": {
  "kernelspec": {
   "display_name": "Python 3 (ipykernel)",
   "language": "python",
   "name": "python3"
  },
  "language_info": {
   "codemirror_mode": {
    "name": "ipython",
    "version": 3
   },
   "file_extension": ".py",
   "mimetype": "text/x-python",
   "name": "python",
   "nbconvert_exporter": "python",
   "pygments_lexer": "ipython3",
   "version": "3.11.0"
  }
 },
 "nbformat": 4,
 "nbformat_minor": 5
}
